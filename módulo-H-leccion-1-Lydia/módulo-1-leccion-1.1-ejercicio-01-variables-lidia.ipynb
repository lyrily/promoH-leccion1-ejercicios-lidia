{
 "cells": [
  {
   "cell_type": "code",
   "execution_count": 3,
   "metadata": {},
   "outputs": [
    {
     "name": "stdout",
     "output_type": "stream",
     "text": [
      "cuatro mas cuatro es igual a 8\n",
      "cuatro + cuatro = 8\n",
      "hay 2.0\n",
      "False\n",
      "True\n",
      "True\n",
      "False\n",
      "True True\n",
      "True\n",
      "False False\n",
      "False\n"
     ]
    }
   ],
   "source": [
    "\n",
    "gatos = 8\n",
    "gatos\n",
    "perros = \"cuatro\" \n",
    "gatos \n",
    "perros\n",
    "\n",
    "print(perros,\"mas\",perros,\"es igual a\",gatos)\n",
    "print(perros,\"+\", perros, \"=\", gatos)\n",
    "\n",
    "pizza = 2.0\n",
    "pizza\n",
    "magdalena = str (2) \n",
    "postre = 0 \n",
    "gatos + pizza\n",
    "\n",
    "gatos - pizza\n",
    "magdalena\n",
    "gatos * 2\n",
    "piezas = (pizza * 8)\n",
    "piezas = (piezas + 3)\n",
    "piezas\n",
    "superficie = 81\n",
    "superficie / gatos\n",
    "print(\"hay\",piezas//gatos)\n",
    "piezas\n",
    "print(gatos > piezas)\n",
    "print ( gatos < superficie)\n",
    "print (2*pizza is not gatos)\n",
    "print (2*pizza is gatos )\n",
    "print( piezas >= pizza, superficie != 0)\n",
    "print( piezas >= pizza < superficie)\n",
    "print ( pizza > gatos, piezas%gatos == 0)\n",
    "print(superficie == 0)\n",
    "cumpleaños_mes = \"julio\"\n",
    "cumpleaños_dia = 13\n",
    "cumpleaños_mes = input()"
   ]
  }
 ],
 "metadata": {
  "kernelspec": {
   "display_name": "Python 3",
   "language": "python",
   "name": "python3"
  },
  "language_info": {
   "codemirror_mode": {
    "name": "ipython",
    "version": 3
   },
   "file_extension": ".py",
   "mimetype": "text/x-python",
   "name": "python",
   "nbconvert_exporter": "python",
   "pygments_lexer": "ipython3",
   "version": "3.9.6"
  }
 },
 "nbformat": 4,
 "nbformat_minor": 2
}
