{
 "cells": [
  {
   "cell_type": "code",
   "execution_count": 2,
   "metadata": {},
   "outputs": [
    {
     "name": "stdout",
     "output_type": "stream",
     "text": [
      "['rosa', 'amarillo', 'verde', 'morado', 'naranja']\n",
      "['rosa', 'amarillo', 'verde', 'morado', 'naranja', 'marron', 'negro']\n"
     ]
    }
   ],
   "source": [
    "# listas\n",
    "#1 \n",
    "colores=[\"rosa\",\"azul\",\"verde\",\"morado\",\"naranja\"]\n",
    "\n",
    "#2\n",
    "colores[2]\n",
    "\n",
    "#3\n",
    "colores[1]=\"amarillo\"\n",
    "print(colores)\n",
    "\n",
    "#4\n",
    "colores.extend([\"marron\",\"negro\"])\n",
    "print(colores)\n"
   ]
  },
  {
   "cell_type": "code",
   "execution_count": 3,
   "metadata": {},
   "outputs": [
    {
     "name": "stdout",
     "output_type": "stream",
     "text": [
      "['rosa', 'amarillo', 'verde', 'morado', 'marron', 'negro']\n"
     ]
    }
   ],
   "source": [
    "#5\n",
    "colores.remove(\"naranja\")\n",
    "print(colores)"
   ]
  },
  {
   "cell_type": "code",
   "execution_count": 4,
   "metadata": {},
   "outputs": [
    {
     "data": {
      "text/plain": [
       "6"
      ]
     },
     "execution_count": 4,
     "metadata": {},
     "output_type": "execute_result"
    }
   ],
   "source": [
    "#6\n",
    "len(colores)"
   ]
  },
  {
   "cell_type": "code",
   "execution_count": 5,
   "metadata": {},
   "outputs": [
    {
     "name": "stdout",
     "output_type": "stream",
     "text": [
      "['amarillo', 'marron', 'morado', 'negro', 'rosa', 'verde']\n"
     ]
    }
   ],
   "source": [
    "#7\n",
    "colores.sort()\n",
    "print(colores)"
   ]
  },
  {
   "cell_type": "code",
   "execution_count": 6,
   "metadata": {},
   "outputs": [
    {
     "data": {
      "text/plain": [
       "(['naranja', 'pera', 'platano'], ['uva', 'melocoton', 'granada'])"
      ]
     },
     "execution_count": 6,
     "metadata": {},
     "output_type": "execute_result"
    }
   ],
   "source": [
    "#8\n",
    "frutas=[\"naranja\",\"pera\",\"platano\"],[\"uva\",\"melocoton\",\"granada\"]\n",
    "frutas"
   ]
  },
  {
   "cell_type": "code",
   "execution_count": 7,
   "metadata": {},
   "outputs": [
    {
     "data": {
      "text/plain": [
       "['naranja', 'pera', 'platano', 'uva', 'melocoton', 'granada']"
      ]
     },
     "execution_count": 7,
     "metadata": {},
     "output_type": "execute_result"
    }
   ],
   "source": [
    "#9\n",
    "lista_de_frutas= frutas[0]+frutas[1]\n",
    "lista_de_frutas"
   ]
  },
  {
   "cell_type": "code",
   "execution_count": 8,
   "metadata": {},
   "outputs": [
    {
     "name": "stdout",
     "output_type": "stream",
     "text": [
      "['naranja', 'pera', 'platano', 'uva', 'melocoton', 'granada', 'naranja', 'pera', 'platano', 'uva', 'melocoton', 'granada', 'naranja', 'pera', 'platano', 'uva', 'melocoton', 'granada']\n"
     ]
    }
   ],
   "source": [
    "#10\n",
    "lista_repetida=lista_de_frutas*3\n",
    "print(lista_repetida)"
   ]
  },
  {
   "cell_type": "code",
   "execution_count": 14,
   "metadata": {},
   "outputs": [
    {
     "name": "stdout",
     "output_type": "stream",
     "text": [
      "['naranja', 'pera', 'platano']\n"
     ]
    }
   ],
   "source": [
    "primera_lista=frutas[0]\n",
    "print(primera_lista)"
   ]
  },
  {
   "cell_type": "code",
   "execution_count": 15,
   "metadata": {},
   "outputs": [
    {
     "name": "stdout",
     "output_type": "stream",
     "text": [
      "['uva', 'melocoton', 'granada']\n"
     ]
    }
   ],
   "source": [
    "segunda_lista=frutas[1]\n",
    "print(segunda_lista)"
   ]
  },
  {
   "cell_type": "code",
   "execution_count": 18,
   "metadata": {},
   "outputs": [
    {
     "name": "stdout",
     "output_type": "stream",
     "text": [
      "['naranja', 'pera', 'platano']\n",
      "naranja\n"
     ]
    }
   ],
   "source": [
    "primera_lista=frutas[0]\n",
    "print(primera_lista)\n",
    "primera_fruta=primera_lista[0]\n",
    "print(primera_fruta)"
   ]
  },
  {
   "cell_type": "code",
   "execution_count": 23,
   "metadata": {},
   "outputs": [
    {
     "name": "stdout",
     "output_type": "stream",
     "text": [
      "['uva', 'melocoton', 'granada']\n",
      "granada\n"
     ]
    }
   ],
   "source": [
    "print(segunda_lista)\n",
    "ultima_fruta=segunda_lista[-1]\n",
    "print(ultima_fruta)"
   ]
  },
  {
   "cell_type": "code",
   "execution_count": 25,
   "metadata": {},
   "outputs": [
    {
     "name": "stdout",
     "output_type": "stream",
     "text": [
      "pera\n"
     ]
    }
   ],
   "source": [
    "segunda_fruta=frutas[0][1]\n",
    "print(segunda_fruta)"
   ]
  },
  {
   "cell_type": "code",
   "execution_count": 27,
   "metadata": {},
   "outputs": [
    {
     "name": "stdout",
     "output_type": "stream",
     "text": [
      "platano\n"
     ]
    }
   ],
   "source": [
    "ultima_fruta_primera_lista=frutas[0][-1]\n",
    "print(ultima_fruta_primera_lista)"
   ]
  },
  {
   "cell_type": "code",
   "execution_count": 32,
   "metadata": {},
   "outputs": [
    {
     "name": "stdout",
     "output_type": "stream",
     "text": [
      "3\n"
     ]
    }
   ],
   "source": [
    "\n",
    "\n",
    "longitud_segunda_lista=len(segunda_lista)\n",
    "print(longitud_segunda_lista)"
   ]
  },
  {
   "cell_type": "code",
   "execution_count": 43,
   "metadata": {},
   "outputs": [
    {
     "name": "stdout",
     "output_type": "stream",
     "text": [
      "['uva', 'melocoton']\n"
     ]
    }
   ],
   "source": [
    "porcion_segunda_lista=segunda_lista[0:2]\n",
    "print(porcion_segunda_lista)"
   ]
  },
  {
   "cell_type": "markdown",
   "metadata": {},
   "source": [
    " #no sale \n",
    " frutas[1][1].sort(\"ciruela\")\n",
    "print(frutas)"
   ]
  },
  {
   "cell_type": "code",
   "execution_count": 49,
   "metadata": {},
   "outputs": [
    {
     "name": "stdout",
     "output_type": "stream",
     "text": [
      "(['naranja', 'pera', 'platano', 'kiwi'], ['uva', 'melocoton', 'granada'])\n"
     ]
    }
   ],
   "source": [
    "#20\n",
    "frutas[0].append(\"kiwi\")\n",
    "print(frutas)"
   ]
  }
 ],
 "metadata": {
  "kernelspec": {
   "display_name": "Python 3",
   "language": "python",
   "name": "python3"
  },
  "language_info": {
   "codemirror_mode": {
    "name": "ipython",
    "version": 3
   },
   "file_extension": ".py",
   "mimetype": "text/x-python",
   "name": "python",
   "nbconvert_exporter": "python",
   "pygments_lexer": "ipython3",
   "version": "3.9.6"
  }
 },
 "nbformat": 4,
 "nbformat_minor": 2
}
