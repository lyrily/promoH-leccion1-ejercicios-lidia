{
 "cells": [
  {
   "cell_type": "code",
   "execution_count": 1,
   "metadata": {},
   "outputs": [
    {
     "name": "stdout",
     "output_type": "stream",
     "text": [
      "['rosa', 'amarillo', 'azul', 'verde', 'morado', 'naranja']\n"
     ]
    },
    {
     "data": {
      "text/plain": [
       "True"
      ]
     },
     "execution_count": 1,
     "metadata": {},
     "output_type": "execute_result"
    }
   ],
   "source": [
    "#####listas####\n",
    "\n",
    "colores = [\"rosa\",\"amarillo\",\"azul\",\"verde\",\"morado\",\"naranja\"]\n",
    "print(colores)\n",
    "buses=[26,56]\n",
    "buses\n",
    "temperaturas=[18,18,19,21,21,20,20]\n",
    "temperaturas\n",
    "nombre=\"lidia\"\n",
    "[nombre]\n",
    "apellido=\"fraile\",\"martin\"\n",
    "[apellido]\n",
    "\"e\" in nombre\n",
    "\"rosa\" in colores\n",
    "\"x\" not in nombre"
   ]
  },
  {
   "cell_type": "code",
   "execution_count": 2,
   "metadata": {},
   "outputs": [
    {
     "data": {
      "text/plain": [
       "(21, 18)"
      ]
     },
     "execution_count": 2,
     "metadata": {},
     "output_type": "execute_result"
    }
   ],
   "source": [
    "len(buses)\n",
    "len(apellido)\n",
    "max(temperaturas), min(temperaturas)"
   ]
  },
  {
   "cell_type": "code",
   "execution_count": 6,
   "metadata": {},
   "outputs": [
    {
     "name": "stdout",
     "output_type": "stream",
     "text": [
      "[18, 18, 19, 21, 21, 20, 20] [18, 18, 19, 21, 21, 20, 20]\n",
      "[18, 18, 19, 21, 21, 20, 20] []\n"
     ]
    }
   ],
   "source": [
    "temperatura2=temperaturas.copy()\n",
    "temperatura3=temperaturas.copy()\n",
    "print(temperatura2,temperatura3)\n",
    "temperatura2.clear()\n",
    "temperatura2\n",
    "print(temperaturas,temperatura2)\n",
    "\n",
    "temperatura3.sort(reverse=True)\n",
    "\n",
    "\n",
    "\n"
   ]
  },
  {
   "cell_type": "code",
   "execution_count": null,
   "metadata": {},
   "outputs": [],
   "source": []
  },
  {
   "cell_type": "code",
   "execution_count": 7,
   "metadata": {},
   "outputs": [
    {
     "name": "stdout",
     "output_type": "stream",
     "text": [
      "la temperatura maxima, esta semana sera 14ºc que ocurrira en 1dia\n"
     ]
    }
   ],
   "source": [
    "temperatura=\"14ºc\"\n",
    "dia= \"1\" \"dia\"\n",
    "print(\"la temperatura maxima, esta semana sera\",temperatura,\"que ocurrira en\",dia,)"
   ]
  }
 ],
 "metadata": {
  "kernelspec": {
   "display_name": "Python 3",
   "language": "python",
   "name": "python3"
  },
  "language_info": {
   "codemirror_mode": {
    "name": "ipython",
    "version": 3
   },
   "file_extension": ".py",
   "mimetype": "text/x-python",
   "name": "python",
   "nbconvert_exporter": "python",
   "pygments_lexer": "ipython3",
   "version": "3.9.6"
  }
 },
 "nbformat": 4,
 "nbformat_minor": 2
}
